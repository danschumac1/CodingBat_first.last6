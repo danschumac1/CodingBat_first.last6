{
 "cells": [
  {
   "cell_type": "markdown",
   "id": "4b7b38ea",
   "metadata": {},
   "source": [
    "first_last6"
   ]
  },
  {
   "cell_type": "markdown",
   "id": "dc95f9a7",
   "metadata": {},
   "source": [
    "Given an array of ints, return True if 6 appears as either the first or last element in the array. The array will be length 1 or more.\n",
    "\n",
    "\n",
    "first_last6([1, 2, 6]) → True\n",
    "first_last6([6, 1, 2, 3]) → True\n",
    "first_last6([13, 6, 1, 2, 3]) → False"
   ]
  },
  {
   "cell_type": "code",
   "execution_count": 3,
   "id": "a596f7d6",
   "metadata": {},
   "outputs": [],
   "source": [
    "def first_last6(nums):\n",
    "  if nums[0] == 6 or nums[-1] == 6:\n",
    "    return True\n",
    "  else:\n",
    "    return False"
   ]
  }
 ],
 "metadata": {
  "kernelspec": {
   "display_name": "Python 3 (ipykernel)",
   "language": "python",
   "name": "python3"
  },
  "language_info": {
   "codemirror_mode": {
    "name": "ipython",
    "version": 3
   },
   "file_extension": ".py",
   "mimetype": "text/x-python",
   "name": "python",
   "nbconvert_exporter": "python",
   "pygments_lexer": "ipython3",
   "version": "3.9.12"
  }
 },
 "nbformat": 4,
 "nbformat_minor": 5
}
